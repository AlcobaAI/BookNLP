{
 "cells": [
  {
   "cell_type": "code",
   "execution_count": 84,
   "id": "0d941516-6ee2-4915-b1c6-844c44825a27",
   "metadata": {},
   "outputs": [],
   "source": [
    "import pandas as pd\n",
    "import numpy as np\n",
    "\n",
    "import requests\n",
    "import glob\n",
    "from tqdm.notebook import tqdm"
   ]
  },
  {
   "cell_type": "code",
   "execution_count": 2,
   "id": "b877e278-15cf-4daf-8b8a-9d3aea81516f",
   "metadata": {},
   "outputs": [],
   "source": [
    "df_filename = 'books.csv'\n",
    "\n",
    "df_books = pd.read_csv(df_filename, index_col = 0)"
   ]
  },
  {
   "cell_type": "code",
   "execution_count": 81,
   "id": "2b5e4ed5-6463-465e-b90d-ebaa62eb1ee8",
   "metadata": {},
   "outputs": [],
   "source": [
    "downloaded_books = [d.split('\\\\')[1] for d in glob.glob('Books/*.*')]"
   ]
  },
  {
   "cell_type": "code",
   "execution_count": 86,
   "id": "323d36eb-ffed-4991-9e47-8d6da6d4e2c0",
   "metadata": {},
   "outputs": [],
   "source": [
    "num_to_collect = 50"
   ]
  },
  {
   "cell_type": "code",
   "execution_count": 87,
   "id": "1b50d6a6-7988-4e67-a979-8254dff90117",
   "metadata": {},
   "outputs": [
    {
     "data": {
      "application/vnd.jupyter.widget-view+json": {
       "model_id": "435470b14bdb4fbfb9990eececd6ec11",
       "version_major": 2,
       "version_minor": 0
      },
      "text/plain": [
       "  0%|          | 0/2447 [00:00<?, ?it/s]"
      ]
     },
     "metadata": {},
     "output_type": "display_data"
    }
   ],
   "source": [
    "collected = 0\n",
    "\n",
    "for title, link in tqdm(df_books[{'title','download_link'}].values):\n",
    "    if (collected >= num_to_collect):\n",
    "            break\n",
    "    \n",
    "    book_file = f'{title}.epub'\n",
    "    \n",
    "    if(not link != link and book_file not in downloaded_books):\n",
    "        \n",
    "        r = requests.get(link, allow_redirects=True)\n",
    "        open('Books/' + book_file, 'wb').write(r.content)\n",
    "        \n",
    "        collected += 1"
   ]
  },
  {
   "cell_type": "code",
   "execution_count": null,
   "id": "29a77473-2b00-47e2-b896-dae1c3029b7e",
   "metadata": {},
   "outputs": [],
   "source": []
  },
  {
   "cell_type": "code",
   "execution_count": null,
   "id": "6a4f62bd-d4b6-486d-8ad7-e72e4a750875",
   "metadata": {},
   "outputs": [],
   "source": []
  }
 ],
 "metadata": {
  "kernelspec": {
   "display_name": "Python 3 (ipykernel)",
   "language": "python",
   "name": "python3"
  },
  "language_info": {
   "codemirror_mode": {
    "name": "ipython",
    "version": 3
   },
   "file_extension": ".py",
   "mimetype": "text/x-python",
   "name": "python",
   "nbconvert_exporter": "python",
   "pygments_lexer": "ipython3",
   "version": "3.8.12"
  }
 },
 "nbformat": 4,
 "nbformat_minor": 5
}

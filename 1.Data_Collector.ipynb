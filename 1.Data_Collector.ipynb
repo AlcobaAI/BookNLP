{
 "cells": [
  {
   "cell_type": "code",
   "execution_count": 1,
   "id": "becc3112-117c-4f6d-bf9c-44bb31abb3d6",
   "metadata": {},
   "outputs": [],
   "source": [
    "from bs4 import BeautifulSoup\n",
    "from selenium import webdriver\n",
    "from selenium.webdriver.common.keys import Keys\n",
    "from selenium.webdriver.chrome.options import Options\n",
    "\n",
    "import pandas as pd\n",
    "import numpy as np\n",
    "\n",
    "import requests\n",
    "import time\n",
    "import random\n",
    "from tqdm.notebook import tqdm\n",
    "\n",
    "import glob"
   ]
  },
  {
   "cell_type": "code",
   "execution_count": 2,
   "id": "56ad43db-0cb4-401c-8845-675c356e9b29",
   "metadata": {},
   "outputs": [],
   "source": [
    "options = Options()"
   ]
  },
  {
   "cell_type": "code",
   "execution_count": 3,
   "id": "1063b847-1bc1-4051-8483-1861b1d54188",
   "metadata": {},
   "outputs": [],
   "source": [
    "options.add_argument(\"--ignore-certificate-errors\")\n",
    "options.add_argument(\"--incognito\")"
   ]
  },
  {
   "cell_type": "code",
   "execution_count": 4,
   "id": "15790cef-9bb7-4231-977b-e7da5287cd90",
   "metadata": {},
   "outputs": [],
   "source": [
    "url_filename = 'urls.txt'"
   ]
  },
  {
   "cell_type": "code",
   "execution_count": 5,
   "id": "c48407eb-07d4-49ec-a331-aa5af466d563",
   "metadata": {},
   "outputs": [],
   "source": [
    "if (not url_filename in glob.glob('*.*')):\n",
    "\n",
    "    driver = webdriver.Chrome(\"chromedriver.exe\", options=options)\n",
    "    \n",
    "    url = f'https://www.bookrix.com/books;fantasy,id:52.html'\n",
    "    driver.get(url)\n",
    "    time.sleep(5)\n",
    "    \n",
    "    book_urls = []\n",
    "    num_pages = int(driver.find_element(by = 'class name', value = 'pager').text.split('\\n')[-1])\n",
    "    \n",
    "    \n",
    "    current_page = 1\n",
    "    \n",
    "    while (current_page <= num_pages):\n",
    "    \n",
    "        books = driver.find_elements(by = 'class name', value = 'item')\n",
    "        \n",
    "        for book in books:\n",
    "            url = book.find_element(by = 'class name', value = 'word-break').get_attribute('href')\n",
    "            book_urls.append(url)\n",
    "        \n",
    "        pager = driver.find_element(by = 'class name', value = 'pager')\n",
    "        pager.find_element(by = 'class name', value = 'next').click()\n",
    "        \n",
    "        random_wait = random.randrange(5, 15)\n",
    "        time.sleep(random_wait)\n",
    "        \n",
    "        current_page += 1\n",
    "\n",
    "    with open(\"urls.txt\", 'w') as f:\n",
    "        for s in book_urls:\n",
    "            f.write(str(s) + '\\n')\n",
    "            \n",
    "else:\n",
    "    with open(url_filename, 'r') as f:\n",
    "        book_urls = [line.rstrip('\\n') for line in f]"
   ]
  },
  {
   "cell_type": "code",
   "execution_count": null,
   "id": "96a27f47-735c-4a2e-ad48-5acf3cb47696",
   "metadata": {},
   "outputs": [],
   "source": []
  },
  {
   "cell_type": "code",
   "execution_count": null,
   "id": "5053677d-c7bf-4257-b91e-cdf9ed343492",
   "metadata": {},
   "outputs": [],
   "source": []
  },
  {
   "cell_type": "code",
   "execution_count": null,
   "id": "718f76a6-42a5-4a96-b342-395756d69acb",
   "metadata": {},
   "outputs": [],
   "source": []
  },
  {
   "cell_type": "code",
   "execution_count": null,
   "id": "4084609c-1240-402e-99af-a09a0d4a7769",
   "metadata": {},
   "outputs": [],
   "source": []
  },
  {
   "cell_type": "code",
   "execution_count": null,
   "id": "01163eb5-d280-4661-855e-eb86c979d73e",
   "metadata": {},
   "outputs": [],
   "source": []
  }
 ],
 "metadata": {
  "kernelspec": {
   "display_name": "Python 3 (ipykernel)",
   "language": "python",
   "name": "python3"
  },
  "language_info": {
   "codemirror_mode": {
    "name": "ipython",
    "version": 3
   },
   "file_extension": ".py",
   "mimetype": "text/x-python",
   "name": "python",
   "nbconvert_exporter": "python",
   "pygments_lexer": "ipython3",
   "version": "3.8.12"
  }
 },
 "nbformat": 4,
 "nbformat_minor": 5
}
